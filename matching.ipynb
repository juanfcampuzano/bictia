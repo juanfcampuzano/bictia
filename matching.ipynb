{
 "cells": [
  {
   "cell_type": "code",
   "execution_count": 2,
   "metadata": {},
   "outputs": [],
   "source": [
    "import pandas as pd\n",
    "import ast\n",
    "import numpy as np\n",
    "from tqdm import tqdm\n",
    "from sklearn.cluster import KMeans"
   ]
  },
  {
   "cell_type": "code",
   "execution_count": 22,
   "metadata": {},
   "outputs": [],
   "source": [
    "df_inversores = pd.read_excel('data_investors.xlsx')"
   ]
  },
  {
   "cell_type": "code",
   "execution_count": 4,
   "metadata": {},
   "outputs": [],
   "source": [
    "base_emprendedores1 = pd.read_csv('Grid view.csv')\n",
    "base_emprendedores2 = pd.read_csv('Grid view (1).csv')\n",
    "interseccion = [col for col in base_emprendedores2.columns.tolist() if col in base_emprendedores1.columns.tolist()]\n",
    "df_emprendedores = pd.concat([base_emprendedores1[interseccion], base_emprendedores2[interseccion]], ignore_index=True)"
   ]
  },
  {
   "cell_type": "code",
   "execution_count": null,
   "metadata": {},
   "outputs": [],
   "source": []
  },
  {
   "cell_type": "code",
   "execution_count": null,
   "metadata": {},
   "outputs": [],
   "source": []
  },
  {
   "cell_type": "code",
   "execution_count": null,
   "metadata": {},
   "outputs": [],
   "source": []
  },
  {
   "cell_type": "code",
   "execution_count": 9,
   "metadata": {},
   "outputs": [],
   "source": [
    "def clusterizar(data):\n",
    "    def str_to_list(string):\n",
    "        try:\n",
    "            lista_final = ast.literal_eval(string)\n",
    "        except:\n",
    "            lista_final = np.nan\n",
    "        return lista_final\n",
    "    data['Fund Type'] = data['Fund Type'].apply(str_to_list)\n",
    "    data['Fund Stage'] = data['Fund Stage'].apply(str_to_list)\n",
    "    data['Fund Focus (Sectors)'] = data['Fund Focus (Sectors)'].apply(str_to_list)\n",
    "    data['Location'] = data['Location'].apply(str_to_list)\n",
    "    data['Portfolio Companies'] = data['Portfolio Companies'].apply(lambda x: x.split(', ') if type(x) == str else x)\n",
    "    \n",
    "    fund_types = list(set([j for i in data[\"Fund Type\"] if type(i) != float for j in i]))\n",
    "    fund_stages = list(set([j for i in data[\"Fund Stage\"] if type(i) != float for j in i]))\n",
    "    fund_sectors = list(set([j for i in data[\"Fund Focus (Sectors)\"] if type(i) != float for j in i]))\n",
    "    locations = list(set([j for i in data[\"Location\"] if type(i) != float for j in i]))\n",
    "    companies = list(set([j for i in data[\"Portfolio Companies\"] if type(i) != float for j in i]))\n",
    "\n",
    "    df_train = pd.DataFrame( columns= ['name']+fund_sectors)\n",
    "\n",
    "    for index, row in tqdm(data.iterrows(), total= len(data)):\n",
    "        new_row = {k:v for k,v in zip(df_train.columns, [[0]]*len(df_train.columns))}\n",
    "        new_row['name'] = [row['Investor Name']]\n",
    "\n",
    "        if type(row['Fund Focus (Sectors)']) == list:\n",
    "            for fund in  row['Fund Focus (Sectors)']:\n",
    "                new_row[fund] = [1]\n",
    "\n",
    "        df_train = pd.concat([df_train, pd.DataFrame(new_row)])\n",
    "\n",
    "\n",
    "    df_predict = df_train.copy()\n",
    "    kmeans = KMeans(random_state=0, n_init=\"auto\").fit(df_train.drop('name', axis = 1))\n",
    "    kmeans.labels_\n",
    "    df_predict['cluster'] = kmeans.predict(df_train.drop('name', axis = 1))\n",
    "\n",
    "    return df_predict['cluster']"
   ]
  },
  {
   "cell_type": "code",
   "execution_count": 10,
   "metadata": {},
   "outputs": [
    {
     "name": "stderr",
     "output_type": "stream",
     "text": [
      "100%|██████████| 2268/2268 [00:12<00:00, 183.63it/s]\n"
     ]
    },
    {
     "data": {
      "text/plain": [
       "0    6\n",
       "0    5\n",
       "0    1\n",
       "0    2\n",
       "0    6\n",
       "    ..\n",
       "0    6\n",
       "0    6\n",
       "0    6\n",
       "0    6\n",
       "0    6\n",
       "Name: cluster, Length: 2268, dtype: int32"
      ]
     },
     "execution_count": 10,
     "metadata": {},
     "output_type": "execute_result"
    }
   ],
   "source": [
    "clusterizar(data_original)"
   ]
  }
 ],
 "metadata": {
  "kernelspec": {
   "display_name": "env",
   "language": "python",
   "name": "python3"
  },
  "language_info": {
   "codemirror_mode": {
    "name": "ipython",
    "version": 3
   },
   "file_extension": ".py",
   "mimetype": "text/x-python",
   "name": "python",
   "nbconvert_exporter": "python",
   "pygments_lexer": "ipython3",
   "version": "3.10.4"
  },
  "orig_nbformat": 4
 },
 "nbformat": 4,
 "nbformat_minor": 2
}
